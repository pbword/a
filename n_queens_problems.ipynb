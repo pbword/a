{
 "cells": [
  {
   "cell_type": "code",
   "execution_count": 8,
   "id": "42023a06-de5a-403c-b3da-8a442f9531aa",
   "metadata": {},
   "outputs": [
    {
     "name": "stdout",
     "output_type": "stream",
     "text": [
      "[1, 0, 0, 0, 0, 0, 0, 0]\n",
      "[0, 0, 0, 0, 0, 0, 1, 0]\n",
      "[0, 0, 0, 0, 1, 0, 0, 0]\n",
      "[0, 0, 0, 0, 0, 0, 0, 1]\n",
      "[0, 1, 0, 0, 0, 0, 0, 0]\n",
      "[0, 0, 0, 1, 0, 0, 0, 0]\n",
      "[0, 0, 0, 0, 0, 1, 0, 0]\n",
      "[0, 0, 1, 0, 0, 0, 0, 0]\n"
     ]
    }
   ],
   "source": [
    "\n",
    "#  implementation for solving the N-Queens problem using backtracking\n",
    "def is_safe(board, row, col, n):\n",
    "    for i in range(col):\n",
    "        if board[row][i] == 1:\n",
    "            return False\n",
    "    for i, j in zip(range(row, -1, -1), range(col, -1, -1)):\n",
    "        if board[i][j] == 1:\n",
    "            return False\n",
    "    for i, j in zip(range(row, n, 1), range(col, -1, -1)):\n",
    "        if board[i][j] == 1:\n",
    "            return False\n",
    "    return True\n",
    "\n",
    "def solve_nq_util(board, col, n):\n",
    "    if col >= n:\n",
    "        return True\n",
    "    for i in range(n):\n",
    "        if is_safe(board, i, col, n):\n",
    "            board[i][col] = 1\n",
    "            if solve_nq_util(board, col + 1, n):\n",
    "                return True\n",
    "            board[i][col] = 0\n",
    "    return False\n",
    "\n",
    "def solve_n_queens(n):\n",
    "    board = [[0] * n for _ in range(n)]\n",
    "    if not solve_nq_util(board, 0, n):\n",
    "        return \"Solution does not exist\"\n",
    "    return board\n",
    "\n",
    "# Example usage:\n",
    "n = 8\n",
    "solution = solve_n_queens(n)\n",
    "for row in solution:\n",
    "    print(row)\n"
   ]
  },
  {
   "cell_type": "code",
   "execution_count": 10,
   "id": "da07c1a3-bf51-4c7f-ab64-80ea7e5ccb7a",
   "metadata": {},
   "outputs": [
    {
     "name": "stdout",
     "output_type": "stream",
     "text": [
      "[1, 2, 3, 2]\n"
     ]
    }
   ],
   "source": [
    "#the graph coloring problem using branch and bound\n",
    "def is_safe(graph, color, v, c):\n",
    "    for i in range(len(graph)):\n",
    "        if graph[v][i] == 1 and color[i] == c:\n",
    "            return False\n",
    "    return True\n",
    "\n",
    "def graph_coloring_util(graph, m, color, v):\n",
    "    if v == len(graph):\n",
    "        return True\n",
    "    for c in range(1, m + 1):\n",
    "        if is_safe(graph, color, v, c):\n",
    "            color[v] = c\n",
    "            if graph_coloring_util(graph, m, color, v + 1):\n",
    "                return True\n",
    "            color[v] = 0\n",
    "    return False\n",
    "\n",
    "def graph_coloring(graph, m):\n",
    "    color = [0] * len(graph)\n",
    "    if not graph_coloring_util(graph, m, color, 0):\n",
    "        return \"Solution does not exist\"\n",
    "    return color\n",
    "\n",
    "# Example usage:\n",
    "graph = [\n",
    "    [0, 1, 1, 1],\n",
    "    [1, 0, 1, 0],\n",
    "    [1, 1, 0, 1],\n",
    "    [1, 0, 1, 0]\n",
    "]\n",
    "m = 3  # Number of colors\n",
    "solution = graph_coloring(graph, m)\n",
    "print(solution)\n"
   ]
  },
  {
   "cell_type": "code",
   "execution_count": null,
   "id": "af26ff29-6600-4f14-8539-06689379f296",
   "metadata": {},
   "outputs": [],
   "source": []
  }
 ],
 "metadata": {
  "kernelspec": {
   "display_name": "Python 3 (ipykernel)",
   "language": "python",
   "name": "python3"
  },
  "language_info": {
   "codemirror_mode": {
    "name": "ipython",
    "version": 3
   },
   "file_extension": ".py",
   "mimetype": "text/x-python",
   "name": "python",
   "nbconvert_exporter": "python",
   "pygments_lexer": "ipython3",
   "version": "3.12.4"
  }
 },
 "nbformat": 4,
 "nbformat_minor": 5
}
